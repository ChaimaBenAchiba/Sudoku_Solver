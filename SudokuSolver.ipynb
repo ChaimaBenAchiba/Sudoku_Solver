{
  "nbformat": 4,
  "nbformat_minor": 0,
  "metadata": {
    "colab": {
      "provenance": [],
      "authorship_tag": "ABX9TyM+I+66QtLa9pVMXFLZL+DK",
      "include_colab_link": true
    },
    "kernelspec": {
      "name": "python3",
      "display_name": "Python 3"
    },
    "language_info": {
      "name": "python"
    }
  },
  "cells": [
    {
      "cell_type": "markdown",
      "metadata": {
        "id": "view-in-github",
        "colab_type": "text"
      },
      "source": [
        "<a href=\"https://colab.research.google.com/github/ChaimaBenAchiba/Sudoku_Solver/blob/main/SudokuSolver.ipynb\" target=\"_parent\"><img src=\"https://colab.research.google.com/assets/colab-badge.svg\" alt=\"Open In Colab\"/></a>"
      ]
    },
    {
      "cell_type": "code",
      "execution_count": 2,
      "metadata": {
        "colab": {
          "base_uri": "https://localhost:8080/"
        },
        "id": "x2M5K0RNK7Qr",
        "outputId": "ef89f6a5-4909-469c-ed43-0ae2337eaf4f"
      },
      "outputs": [
        {
          "output_type": "stream",
          "name": "stdout",
          "text": [
            "Initial Sudoku grid:\n",
            ". . . 2 6 . 7 . 1\n",
            "6 8 . . 7 . . 9 .\n",
            "1 9 . . . 4 5 . .\n",
            "8 2 . 1 . . . 4 .\n",
            ". . 4 6 . 2 9 . .\n",
            ". 5 . . . 3 . 2 8\n",
            ". . 9 3 . . . 7 4\n",
            ". 4 . . 5 . . 3 6\n",
            "7 . 3 . 1 8 . . .\n",
            "\n",
            "Sudoku grid after solving:\n",
            "4 3 5 2 6 9 7 8 1\n",
            "6 8 2 5 7 1 4 9 3\n",
            "1 9 7 8 3 4 5 6 2\n",
            "8 2 6 1 9 5 3 4 7\n",
            "3 7 4 6 8 2 9 1 5\n",
            "9 5 1 7 4 3 6 2 8\n",
            "5 1 9 3 2 6 8 7 4\n",
            "2 4 8 9 5 7 1 3 6\n",
            "7 6 3 4 1 8 2 5 9\n",
            "\n",
            "Resetting the solution:\n",
            "Resetting the solution was not successful\n"
          ]
        }
      ],
      "source": [
        "def print_grid(grid):\n",
        "    \"\"\"Display the Sudoku grid in an easy-to-read format.\"\"\"\n",
        "    for row in grid:\n",
        "        print(\" \".join(str(num) if num != 0 else \".\" for num in row))\n",
        "\n",
        "def is_valid(grid, row, col, num):\n",
        "    \"\"\"Verify if placing a number in a specific position is allowed.\"\"\"\n",
        "    for i in range(9):\n",
        "        # Check the row and column\n",
        "        if grid[row][i] == num or grid[i][col] == num:\n",
        "            return False\n",
        "        # Check the 3x3 sub-grid\n",
        "        if grid[row - row % 3 + i // 3][col - col % 3 + i % 3] == num:\n",
        "            return False\n",
        "    return True\n",
        "\n",
        "def solve_sudoku(grid):\n",
        "    \"\"\"Solve the Sudoku puzzle using a backtracking approach.\"\"\"\n",
        "    for row in range(9):\n",
        "        for col in range(9):\n",
        "            # Look for an empty cell\n",
        "            if grid[row][col] == 0:\n",
        "                # Attempt to place digits 1-9\n",
        "                for num in range(1, 10):\n",
        "                    if is_valid(grid, row, col, num):\n",
        "                        grid[row][col] = num\n",
        "                        # Recursively solve the grid\n",
        "                        if solve_sudoku(grid):\n",
        "                            return True\n",
        "                        # If not solvable, backtrack\n",
        "                        grid[row][col] = 0\n",
        "                return False\n",
        "    return True\n",
        "\n",
        "def reset_sudoku(grid):\n",
        "    \"\"\"Reverse the solved Sudoku by resetting solved cells.\"\"\"\n",
        "    for row in range(9):\n",
        "        for col in range(9):\n",
        "            # Find non-empty cells\n",
        "            if grid[row][col] != 0:\n",
        "                # Clear the cell\n",
        "                grid[row][col] = 0\n",
        "                # Attempt to reverse the grid\n",
        "                if not solve_sudoku(grid):\n",
        "                    return True\n",
        "                # If unable to reverse, restore cell and continue\n",
        "                grid[row][col] = grid[row][col]\n",
        "    return False\n",
        "\n",
        "def main():\n",
        "    # Different Sudoku puzzle example (0 indicates empty cells)\n",
        "    sudoku_grid = [\n",
        "        [0, 0, 0, 2, 6, 0, 7, 0, 1],\n",
        "        [6, 8, 0, 0, 7, 0, 0, 9, 0],\n",
        "        [1, 9, 0, 0, 0, 4, 5, 0, 0],\n",
        "        [8, 2, 0, 1, 0, 0, 0, 4, 0],\n",
        "        [0, 0, 4, 6, 0, 2, 9, 0, 0],\n",
        "        [0, 5, 0, 0, 0, 3, 0, 2, 8],\n",
        "        [0, 0, 9, 3, 0, 0, 0, 7, 4],\n",
        "        [0, 4, 0, 0, 5, 0, 0, 3, 6],\n",
        "        [7, 0, 3, 0, 1, 8, 0, 0, 0]\n",
        "    ]\n",
        "\n",
        "    print(\"Initial Sudoku grid:\")\n",
        "    print_grid(sudoku_grid)\n",
        "\n",
        "    if solve_sudoku(sudoku_grid):\n",
        "        print(\"\\nSudoku grid after solving:\")\n",
        "        print_grid(sudoku_grid)\n",
        "    else:\n",
        "        print(\"No solution could be found\")\n",
        "\n",
        "    print(\"\\nResetting the solution:\")\n",
        "    if reset_sudoku(sudoku_grid):\n",
        "        print(\"\\nSudoku grid after reset:\")\n",
        "        print_grid(sudoku_grid)\n",
        "    else:\n",
        "        print(\"Resetting the solution was not successful\")\n",
        "\n",
        "if __name__ == \"__main__\":\n",
        "    main()"
      ]
    }
  ]
}